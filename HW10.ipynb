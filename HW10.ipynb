{
 "cells": [
  {
   "cell_type": "code",
   "execution_count": 1,
   "id": "2e48e2bf",
   "metadata": {},
   "outputs": [],
   "source": [
    "#Q1"
   ]
  },
  {
   "cell_type": "markdown",
   "id": "f93bce9f",
   "metadata": {},
   "source": [
    "\n",
    "## Gaussian Processes and Stochastic Processes\n",
    "\n",
    "A stochastic process is a family of random variables indexed by a parameter (often time or space). For example, \\(\\{X_t\\}_{t \\in T}\\) represents a process in which each \\(X_t\\) is a random variable corresponding to the index \\(t\\).\n",
    "\n",
    "A Gaussian Process (GP) is a special kind of stochastic process. In a GP, the function \\(f(x)\\) is such that for any finite collection of input points \\(x_1, x_2, \\dots, x_n\\), the corresponding outputs \\(\\left(f(x_1), f(x_2), \\dots, f(x_n)\\right)\\) are jointly normally distributed. A GP is fully described by a mean function \\(m(x)\\) and a covariance (kernel) function \\(k(x, x')\\). This is expressed as:\n",
    "\n",
    "$$\n",
    "f(x) \\sim \\mathcal{GP}\\big(m(x), k(x, x')\\big)\n",
    "$$\n",
    "\n",
    "where the mean function is given by\n",
    "\n",
    "$$\n",
    "m(x) = \\mathbb{E}[f(x)]\n",
    "$$\n",
    "\n",
    "and the covariance function is defined by\n",
    "\n",
    "$$\n",
    "k(x, x') = \\mathbb{E}\\Big[(f(x) - m(x))(f(x') - m(x'))\\Big].\n",
    "$$\n",
    "\n",
    "## Variational Inference with the Evidence Lower Bound (ELBO)\n",
    "\n",
    "Variational Inference (VI) is a technique used to approximate an intractable posterior distribution \\(p(\\theta \\mid x)\\) with a simpler distribution \\(q(\\theta)\\). The quality of this approximation is measured by the Kullback-Leibler (KL) divergence between \\(q(\\theta)\\) and \\(p(\\theta \\mid x)\\). This relationship can be written as:\n",
    "\n",
    "$$\n",
    "\\mathrm{KL}\\Big(q(\\theta) \\,\\|\\, p(\\theta \\mid x)\\Big) = \\log p(x) - \\operatorname{ELBO}(q)\n",
    "$$\n",
    "\n",
    "The Evidence Lower Bound (ELBO) itself is defined by:\n",
    "\n",
    "$$\n",
    "\\operatorname{ELBO}(q) = \\mathbb{E}_{q(\\theta)}\\Big[\\log p(x, \\theta)\\Big] - \\mathbb{E}_{q(\\theta)}\\Big[\\log q(\\theta)\\Big]\n",
    "$$\n",
    "\n",
    "Maximizing the ELBO is equivalent to maximizing the marginal likelihood \\(p(x)\\) while also controlling the divergence between the approximate and true posteriors.\n"
   ]
  },
  {
   "cell_type": "code",
   "execution_count": 2,
   "id": "8efca656",
   "metadata": {},
   "outputs": [],
   "source": [
    "#Q2"
   ]
  },
  {
   "cell_type": "code",
   "execution_count": 10,
   "id": "875c815e",
   "metadata": {},
   "outputs": [
    {
     "name": "stderr",
     "output_type": "stream",
     "text": [
      "/opt/conda/lib/python3.11/site-packages/pymc/gp/gp.py:56: FutureWarning: The 'noise' parameter has been been changed to 'sigma' in order to standardize the GP API and will be deprecated in future releases.\n",
      "  warnings.warn(_noise_deprecation_warning, FutureWarning)\n",
      "Auto-assigning NUTS sampler...\n",
      "Initializing NUTS using jitter+adapt_diag...\n",
      "Multiprocess sampling (4 chains in 4 jobs)\n",
      "NUTS: [length_scale, eta, sigma]\n"
     ]
    },
    {
     "data": {
      "text/html": [
       "\n",
       "<style>\n",
       "    /* Turns off some styling */\n",
       "    progress {\n",
       "        /* gets rid of default border in Firefox and Opera. */\n",
       "        border: none;\n",
       "        /* Needs to be in here for Safari polyfill so background images work as expected. */\n",
       "        background-size: auto;\n",
       "    }\n",
       "    progress:not([value]), progress:not([value])::-webkit-progress-bar {\n",
       "        background: repeating-linear-gradient(45deg, #7e7e7e, #7e7e7e 10px, #5c5c5c 10px, #5c5c5c 20px);\n",
       "    }\n",
       "    .progress-bar-interrupted, .progress-bar-interrupted::-webkit-progress-bar {\n",
       "        background: #F44336;\n",
       "    }\n",
       "</style>\n"
      ],
      "text/plain": [
       "<IPython.core.display.HTML object>"
      ]
     },
     "metadata": {},
     "output_type": "display_data"
    },
    {
     "data": {
      "text/html": [
       "\n",
       "    <div>\n",
       "      <progress value='8000' class='' max='8000' style='width:300px; height:20px; vertical-align: middle;'></progress>\n",
       "      100.00% [8000/8000 02:25&lt;00:00 Sampling 4 chains, 0 divergences]\n",
       "    </div>\n",
       "    "
      ],
      "text/plain": [
       "<IPython.core.display.HTML object>"
      ]
     },
     "metadata": {},
     "output_type": "display_data"
    },
    {
     "name": "stderr",
     "output_type": "stream",
     "text": [
      "Sampling 4 chains for 1_000 tune and 1_000 draw iterations (4_000 + 4_000 draws total) took 145 seconds.\n",
      "Sampling: [y_obs]\n"
     ]
    },
    {
     "data": {
      "text/html": [
       "\n",
       "<style>\n",
       "    /* Turns off some styling */\n",
       "    progress {\n",
       "        /* gets rid of default border in Firefox and Opera. */\n",
       "        border: none;\n",
       "        /* Needs to be in here for Safari polyfill so background images work as expected. */\n",
       "        background-size: auto;\n",
       "    }\n",
       "    progress:not([value]), progress:not([value])::-webkit-progress-bar {\n",
       "        background: repeating-linear-gradient(45deg, #7e7e7e, #7e7e7e 10px, #5c5c5c 10px, #5c5c5c 20px);\n",
       "    }\n",
       "    .progress-bar-interrupted, .progress-bar-interrupted::-webkit-progress-bar {\n",
       "        background: #F44336;\n",
       "    }\n",
       "</style>\n"
      ],
      "text/plain": [
       "<IPython.core.display.HTML object>"
      ]
     },
     "metadata": {},
     "output_type": "display_data"
    },
    {
     "data": {
      "text/html": [
       "\n",
       "    <div>\n",
       "      <progress value='4000' class='' max='4000' style='width:300px; height:20px; vertical-align: middle;'></progress>\n",
       "      100.00% [4000/4000 00:41&lt;00:00]\n",
       "    </div>\n",
       "    "
      ],
      "text/plain": [
       "<IPython.core.display.HTML object>"
      ]
     },
     "metadata": {},
     "output_type": "display_data"
    },
    {
     "name": "stderr",
     "output_type": "stream",
     "text": [
      "Sampling: [f_pred]\n"
     ]
    },
    {
     "data": {
      "text/html": [
       "\n",
       "<style>\n",
       "    /* Turns off some styling */\n",
       "    progress {\n",
       "        /* gets rid of default border in Firefox and Opera. */\n",
       "        border: none;\n",
       "        /* Needs to be in here for Safari polyfill so background images work as expected. */\n",
       "        background-size: auto;\n",
       "    }\n",
       "    progress:not([value]), progress:not([value])::-webkit-progress-bar {\n",
       "        background: repeating-linear-gradient(45deg, #7e7e7e, #7e7e7e 10px, #5c5c5c 10px, #5c5c5c 20px);\n",
       "    }\n",
       "    .progress-bar-interrupted, .progress-bar-interrupted::-webkit-progress-bar {\n",
       "        background: #F44336;\n",
       "    }\n",
       "</style>\n"
      ],
      "text/plain": [
       "<IPython.core.display.HTML object>"
      ]
     },
     "metadata": {},
     "output_type": "display_data"
    },
    {
     "data": {
      "text/html": [
       "\n",
       "    <div>\n",
       "      <progress value='4000' class='' max='4000' style='width:300px; height:20px; vertical-align: middle;'></progress>\n",
       "      100.00% [4000/4000 02:50&lt;00:00]\n",
       "    </div>\n",
       "    "
      ],
      "text/plain": [
       "<IPython.core.display.HTML object>"
      ]
     },
     "metadata": {},
     "output_type": "display_data"
    },
    {
     "ename": "KeyError",
     "evalue": "'f_pred'",
     "output_type": "error",
     "traceback": [
      "\u001b[0;31m---------------------------------------------------------------------------\u001b[0m",
      "\u001b[0;31mKeyError\u001b[0m                                  Traceback (most recent call last)",
      "Cell \u001b[0;32mIn[10], line 27\u001b[0m\n\u001b[1;32m     24\u001b[0m     post_pred_gp \u001b[38;5;241m=\u001b[39m pm\u001b[38;5;241m.\u001b[39msample_posterior_predictive(trace, var_names\u001b[38;5;241m=\u001b[39m[\u001b[38;5;124m\"\u001b[39m\u001b[38;5;124mf_pred\u001b[39m\u001b[38;5;124m\"\u001b[39m])\n\u001b[1;32m     26\u001b[0m plt\u001b[38;5;241m.\u001b[39mplot(X, y, \u001b[38;5;124m\"\u001b[39m\u001b[38;5;124mo\u001b[39m\u001b[38;5;124m\"\u001b[39m)\n\u001b[0;32m---> 27\u001b[0m plt\u001b[38;5;241m.\u001b[39mplot(X_new, \u001b[43mpost_pred_gp\u001b[49m\u001b[43m[\u001b[49m\u001b[38;5;124;43m\"\u001b[39;49m\u001b[38;5;124;43mf_pred\u001b[39;49m\u001b[38;5;124;43m\"\u001b[39;49m\u001b[43m]\u001b[49m\u001b[38;5;241m.\u001b[39mmean(axis\u001b[38;5;241m=\u001b[39m\u001b[38;5;241m0\u001b[39m))\n\u001b[1;32m     28\u001b[0m plt\u001b[38;5;241m.\u001b[39mfill_between(\n\u001b[1;32m     29\u001b[0m     X_new\u001b[38;5;241m.\u001b[39mravel(),\n\u001b[1;32m     30\u001b[0m     np\u001b[38;5;241m.\u001b[39mpercentile(post_pred_gp[\u001b[38;5;124m\"\u001b[39m\u001b[38;5;124mf_pred\u001b[39m\u001b[38;5;124m\"\u001b[39m], \u001b[38;5;241m5\u001b[39m, axis\u001b[38;5;241m=\u001b[39m\u001b[38;5;241m0\u001b[39m),\n\u001b[1;32m     31\u001b[0m     np\u001b[38;5;241m.\u001b[39mpercentile(post_pred_gp[\u001b[38;5;124m\"\u001b[39m\u001b[38;5;124mf_pred\u001b[39m\u001b[38;5;124m\"\u001b[39m], \u001b[38;5;241m95\u001b[39m, axis\u001b[38;5;241m=\u001b[39m\u001b[38;5;241m0\u001b[39m),\n\u001b[1;32m     32\u001b[0m     alpha\u001b[38;5;241m=\u001b[39m\u001b[38;5;241m0.3\u001b[39m\n\u001b[1;32m     33\u001b[0m )\n\u001b[1;32m     34\u001b[0m plt\u001b[38;5;241m.\u001b[39mshow()\n",
      "File \u001b[0;32m/opt/conda/lib/python3.11/site-packages/arviz/data/inference_data.py:271\u001b[0m, in \u001b[0;36mInferenceData.__getitem__\u001b[0;34m(self, key)\u001b[0m\n\u001b[1;32m    269\u001b[0m \u001b[38;5;250m\u001b[39m\u001b[38;5;124;03m\"\"\"Get item by key.\"\"\"\u001b[39;00m\n\u001b[1;32m    270\u001b[0m \u001b[38;5;28;01mif\u001b[39;00m key \u001b[38;5;129;01mnot\u001b[39;00m \u001b[38;5;129;01min\u001b[39;00m \u001b[38;5;28mself\u001b[39m\u001b[38;5;241m.\u001b[39m_groups_all:\n\u001b[0;32m--> 271\u001b[0m     \u001b[38;5;28;01mraise\u001b[39;00m \u001b[38;5;167;01mKeyError\u001b[39;00m(key)\n\u001b[1;32m    272\u001b[0m \u001b[38;5;28;01mreturn\u001b[39;00m \u001b[38;5;28mgetattr\u001b[39m(\u001b[38;5;28mself\u001b[39m, key)\n",
      "\u001b[0;31mKeyError\u001b[0m: 'f_pred'"
     ]
    },
    {
     "data": {
      "image/png": "[encoded data removed]",
      "text/plain": [
       "<Figure size 640x480 with 1 Axes>"
      ]
     },
     "metadata": {},
     "output_type": "display_data"
    }
   ],
   "source": [
    "import pymc as pm\n",
    "import numpy as np\n",
    "import arviz as az\n",
    "import matplotlib.pyplot as plt\n",
    "\n",
    "rng = np.random.default_rng(42)\n",
    "X = np.linspace(0, 10, 50)[:, None]\n",
    "f_true = np.sin(X).ravel()\n",
    "y = f_true + rng.normal(scale=0.2, size=len(X))\n",
    "\n",
    "with pm.Model() as model:\n",
    "    length_scale = pm.HalfNormal(\"length_scale\", sigma=1.0)\n",
    "    eta = pm.HalfNormal(\"eta\", sigma=1.0)\n",
    "    cov = eta**2 * pm.gp.cov.ExpQuad(1, length_scale)\n",
    "    gp = pm.gp.Marginal(cov_func=cov)\n",
    "    sigma = pm.HalfNormal(\"sigma\", sigma=1.0)\n",
    "    y_obs = gp.marginal_likelihood(\"y_obs\", X=X, y=y, noise=sigma)\n",
    "    trace = pm.sample()\n",
    "    post_pred = pm.sample_posterior_predictive(trace)\n",
    "\n",
    "X_new = np.linspace(-2, 12, 100)[:, None]\n",
    "with model:\n",
    "    f_pred = gp.conditional(\"f_pred\", X_new)\n",
    "    post_pred_gp = pm.sample_posterior_predictive(trace, var_names=[\"f_pred\"])\n",
    "\n",
    "plt.plot(X, y, \"o\")\n",
    "plt.plot(X_new, post_pred_gp[\"f_pred\"].mean(axis=0))\n",
    "plt.fill_between(\n",
    "    X_new.ravel(),\n",
    "    np.percentile(post_pred_gp[\"f_pred\"], 5, axis=0),\n",
    "    np.percentile(post_pred_gp[\"f_pred\"], 95, axis=0),\n",
    "    alpha=0.3\n",
    ")\n",
    "plt.show()"
   ]
  },
  {
   "cell_type": "code",
   "execution_count": 11,
   "id": "2251c63e",
   "metadata": {},
   "outputs": [],
   "source": [
    "#Q3"
   ]
  },
  {
   "cell_type": "code",
   "execution_count": 23,
   "id": "7c92384e",
   "metadata": {},
   "outputs": [
    {
     "data": {
      "text/html": [
       "\n",
       "<style>\n",
       "    /* Turns off some styling */\n",
       "    progress {\n",
       "        /* gets rid of default border in Firefox and Opera. */\n",
       "        border: none;\n",
       "        /* Needs to be in here for Safari polyfill so background images work as expected. */\n",
       "        background-size: auto;\n",
       "    }\n",
       "    progress:not([value]), progress:not([value])::-webkit-progress-bar {\n",
       "        background: repeating-linear-gradient(45deg, #7e7e7e, #7e7e7e 10px, #5c5c5c 10px, #5c5c5c 20px);\n",
       "    }\n",
       "    .progress-bar-interrupted, .progress-bar-interrupted::-webkit-progress-bar {\n",
       "        background: #F44336;\n",
       "    }\n",
       "</style>\n"
      ],
      "text/plain": [
       "<IPython.core.display.HTML object>"
      ]
     },
     "metadata": {},
     "output_type": "display_data"
    },
    {
     "data": {
      "text/html": [
       "\n",
       "    <div>\n",
       "      <progress value='1000' class='' max='1000' style='width:300px; height:20px; vertical-align: middle;'></progress>\n",
       "      100.00% [1000/1000 00:00&lt;00:00 Average Loss = 171.68]\n",
       "    </div>\n",
       "    "
      ],
      "text/plain": [
       "<IPython.core.display.HTML object>"
      ]
     },
     "metadata": {},
     "output_type": "display_data"
    },
    {
     "name": "stderr",
     "output_type": "stream",
     "text": [
      "Finished [100%]: Average Loss = 171.57\n",
      "Sampling: [obs]\n"
     ]
    },
    {
     "data": {
      "text/html": [
       "\n",
       "<style>\n",
       "    /* Turns off some styling */\n",
       "    progress {\n",
       "        /* gets rid of default border in Firefox and Opera. */\n",
       "        border: none;\n",
       "        /* Needs to be in here for Safari polyfill so background images work as expected. */\n",
       "        background-size: auto;\n",
       "    }\n",
       "    progress:not([value]), progress:not([value])::-webkit-progress-bar {\n",
       "        background: repeating-linear-gradient(45deg, #7e7e7e, #7e7e7e 10px, #5c5c5c 10px, #5c5c5c 20px);\n",
       "    }\n",
       "    .progress-bar-interrupted, .progress-bar-interrupted::-webkit-progress-bar {\n",
       "        background: #F44336;\n",
       "    }\n",
       "</style>\n"
      ],
      "text/plain": [
       "<IPython.core.display.HTML object>"
      ]
     },
     "metadata": {},
     "output_type": "display_data"
    },
    {
     "data": {
      "text/html": [
       "\n",
       "    <div>\n",
       "      <progress value='1000' class='' max='1000' style='width:300px; height:20px; vertical-align: middle;'></progress>\n",
       "      100.00% [1000/1000 00:00&lt;00:00]\n",
       "    </div>\n",
       "    "
      ],
      "text/plain": [
       "<IPython.core.display.HTML object>"
      ]
     },
     "metadata": {},
     "output_type": "display_data"
    },
    {
     "name": "stdout",
     "output_type": "stream",
     "text": [
      "Posterior predictive accuracy: 0.50034\n"
     ]
    }
   ],
   "source": [
    "import pymc as pm\n",
    "import numpy as np\n",
    "import pytensor.tensor as pt\n",
    "import matplotlib.pyplot as plt\n",
    "\n",
    "rng = np.random.default_rng(42)\n",
    "X = rng.normal(0, 1, size=(200, 2))\n",
    "true_w = np.array([2.0, -1.0])\n",
    "logits_true = X @ true_w\n",
    "p_true = 1 / (1 + np.exp(-logits_true))\n",
    "y = rng.binomial(n=1, p=p_true)\n",
    "\n",
    "with pm.Model() as nn_model:\n",
    "    n_hidden = 5\n",
    "    W1 = pm.Normal(\"W1\", mu=0, sigma=1, shape=(2, n_hidden))\n",
    "    b1 = pm.Normal(\"b1\", mu=0, sigma=1, shape=(n_hidden,))\n",
    "    hidden = pm.math.tanh(pt.dot(X, W1) + b1)\n",
    "    W2 = pm.Normal(\"W2\", mu=0, sigma=1, shape=(n_hidden, 1))\n",
    "    b2 = pm.Normal(\"b2\", mu=0, sigma=1)\n",
    "    logits = pt.dot(hidden, W2) + b2\n",
    "    p_out = pm.math.sigmoid(logits).ravel()\n",
    "    obs = pm.Bernoulli(\"obs\", p_out, observed=y)\n",
    "    approx = pm.fit(1000, method=\"advi\", progressbar=True)\n",
    "    trace = approx.sample(1000)\n",
    "\n",
    "with nn_model:\n",
    "    ppc = pm.sample_posterior_predictive(trace, var_names=[\"obs\"], return_inferencedata=False)\n",
    "\n",
    "y_pred = np.mean(ppc[\"obs\"], axis=0)\n",
    "y_pred = np.squeeze(y_pred).round().astype(int)\n",
    "\n",
    "accuracy = (y_pred == y).mean()\n",
    "print(\"Posterior predictive accuracy:\", accuracy)\n",
    "\n"
   ]
  },
  {
   "cell_type": "markdown",
   "id": "ea785cf9",
   "metadata": {},
   "source": [
    "The model is applied to a randomly generated 2D dataset with a linear decision boundary.\n",
    "Using ADVI, the posterior predictive accuracy is approximately 50%, indicating random-like performance."
   ]
  },
  {
   "cell_type": "code",
   "execution_count": null,
   "id": "ec7185b5",
   "metadata": {},
   "outputs": [],
   "source": []
  }
 ],
 "metadata": {
  "kernelspec": {
   "display_name": "Python 3 (ipykernel)",
   "language": "python",
   "name": "python3"
  },
  "language_info": {
   "codemirror_mode": {
    "name": "ipython",
    "version": 3
   },
   "file_extension": ".py",
   "mimetype": "text/x-python",
   "name": "python",
   "nbconvert_exporter": "python",
   "pygments_lexer": "ipython3",
   "version": "3.11.6"
  }
 },
 "nbformat": 4,
 "nbformat_minor": 5
}
